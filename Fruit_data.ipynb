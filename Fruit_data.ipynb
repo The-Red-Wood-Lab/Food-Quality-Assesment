{
  "nbformat": 4,
  "nbformat_minor": 0,
  "metadata": {
    "colab": {
      "provenance": [],
      "authorship_tag": "ABX9TyMmH6aa/quuovvftbsyHO3J",
      "include_colab_link": true
    },
    "kernelspec": {
      "name": "python3",
      "display_name": "Python 3"
    },
    "language_info": {
      "name": "python"
    }
  },
  "cells": [
    {
      "cell_type": "markdown",
      "metadata": {
        "id": "view-in-github",
        "colab_type": "text"
      },
      "source": [
        "<a href=\"https://colab.research.google.com/github/runningman145/Food-Quality-Assesment/blob/main/Fruit_data.ipynb\" target=\"_parent\"><img src=\"https://colab.research.google.com/assets/colab-badge.svg\" alt=\"Open In Colab\"/></a>"
      ]
    },
    {
      "cell_type": "code",
      "source": [
        "import os\n",
        "import matplotlib.pyplot as plt\n",
        "from collections import Counter\n",
        "\n",
        "def analyze_class_distribution(dataset_path):\n",
        "    class_counts = Counter()\n",
        "\n",
        "    for root, dirs, files in os.walk(dataset_path):\n",
        "        for dir in dirs:\n",
        "            class_path = os.path.join(root, dir)\n",
        "            class_counts[dir] = len(os.listdir(class_path))\n",
        "\n",
        "    classes = list(class_counts.keys())\n",
        "    counts = list(class_counts.values())\n",
        "\n",
        "    plt.figure(figsize=(12, 6))\n",
        "    plt.bar(classes, counts)\n",
        "    plt.title('Distribution of Images Across Fruit Categories')\n",
        "    plt.xlabel('Fruit Category')\n",
        "    plt.ylabel('Number of Images')\n",
        "    plt.xticks(rotation=45, ha='right')\n",
        "    plt.tight_layout()\n",
        "    plt.savefig('class_distribution.png')\n",
        "    plt.close()\n",
        "\n",
        "    return class_counts\n",
        "\n",
        "# Usage\n",
        "dataset_path = 'path/to/your/dataset'\n",
        "class_distribution = analyze_class_distribution(dataset_path)\n",
        "print(class_distribution)"
      ],
      "metadata": {
        "id": "-H8fCAMIvBmU"
      },
      "execution_count": null,
      "outputs": []
    },
    {
      "cell_type": "code",
      "source": [
        "import cv2\n",
        "import os\n",
        "import numpy as np\n",
        "\n",
        "def apply_noise_reduction(image_path, output_path, method='gaussian', kernel_size=5):\n",
        "    img = cv2.imread(image_path)\n",
        "\n",
        "    if method == 'gaussian':\n",
        "        denoised = cv2.GaussianBlur(img, (kernel_size, kernel_size), 0)\n",
        "    elif method == 'median':\n",
        "        denoised = cv2.medianBlur(img, kernel_size)\n",
        "    else:\n",
        "        raise ValueError(\"Method must be 'gaussian' or 'median'\")\n",
        "\n",
        "    cv2.imwrite(output_path, denoised)\n",
        "\n",
        "def process_dataset(input_dir, output_dir, method='gaussian', kernel_size=5):\n",
        "    for root, dirs, files in os.walk(input_dir):\n",
        "        for file in files:\n",
        "            if file.lower().endswith(('.png', '.jpg', '.jpeg')):\n",
        "                input_path = os.path.join(root, file)\n",
        "                relative_path = os.path.relpath(input_path, input_dir)\n",
        "                output_path = os.path.join(output_dir, relative_path)\n",
        "\n",
        "                os.makedirs(os.path.dirname(output_path), exist_ok=True)\n",
        "                apply_noise_reduction(input_path, output_path, method, kernel_size)\n",
        "\n",
        "# Usage\n",
        "input_dir = 'path/to/your/dataset'\n",
        "output_dir = 'path/to/denoised/dataset'\n",
        "process_dataset(input_dir, output_dir, method='gaussian', kernel_size=5)"
      ],
      "metadata": {
        "id": "ocYJvZfAvE-E"
      },
      "execution_count": null,
      "outputs": []
    },
    {
      "cell_type": "code",
      "source": [
        "import os\n",
        "import shutil\n",
        "import random\n",
        "from collections import Counter\n",
        "\n",
        "def balance_dataset(input_dir, output_dir, target_count=None):\n",
        "    class_counts = Counter()\n",
        "\n",
        "    # Count images in each class\n",
        "    for class_name in os.listdir(input_dir):\n",
        "        class_path = os.path.join(input_dir, class_name)\n",
        "        if os.path.isdir(class_path):\n",
        "            class_counts[class_name] = len(os.listdir(class_path))\n",
        "\n",
        "    # Determine target count\n",
        "    if target_count is None:\n",
        "        target_count = max(class_counts.values())\n",
        "\n",
        "    # Balance classes\n",
        "    for class_name, count in class_counts.items():\n",
        "        input_class_path = os.path.join(input_dir, class_name)\n",
        "        output_class_path = os.path.join(output_dir, class_name)\n",
        "        os.makedirs(output_class_path, exist_ok=True)\n",
        "\n",
        "        # Copy all original images\n",
        "        for file in os.listdir(input_class_path):\n",
        "            shutil.copy2(os.path.join(input_class_path, file), output_class_path)\n",
        "\n",
        "        # Oversample if necessary\n",
        "        if count < target_count:\n",
        "            files = os.listdir(input_class_path)\n",
        "            for i in range(target_count - count):\n",
        "                file = random.choice(files)\n",
        "                new_name = f\"{os.path.splitext(file)[0]}_copy{i}{os.path.splitext(file)[1]}\"\n",
        "                shutil.copy2(os.path.join(input_class_path, file),\n",
        "                             os.path.join(output_class_path, new_name))\n",
        "\n",
        "# Usage\n",
        "input_dir = 'path/to/your/dataset'\n",
        "output_dir = 'path/to/balanced/dataset'\n",
        "balance_dataset(input_dir, output_dir)"
      ],
      "metadata": {
        "id": "fa0KpGX6vK3K"
      },
      "execution_count": null,
      "outputs": []
    }
  ]
}